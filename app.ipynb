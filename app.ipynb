{
 "cells": [
  {
   "cell_type": "code",
   "execution_count": 17,
   "metadata": {},
   "outputs": [],
   "source": [
    "import pandas as pd\n",
    "\n",
    "# Load the dataset\n",
    "geo_device = pd.read_csv(\"input_data/estat_isoc_ci_dev_i_en.csv\")\n",
    "geo_beds = pd.read_csv(\"input_data/estat_tour_cap_nat_en.csv\")"
   ]
  },
  {
   "cell_type": "code",
   "execution_count": 2,
   "metadata": {},
   "outputs": [
    {
     "name": "stdout",
     "output_type": "stream",
     "text": [
      "                   DATAFLOW        LAST UPDATE freq   ind_type    indic_is  \\\n",
      "0  ESTAT:ISOC_CI_DEV_I(1.0)  17/12/24 11:00:00    A  CB_EU_FOR  I_IUG_DKPC   \n",
      "1  ESTAT:ISOC_CI_DEV_I(1.0)  17/12/24 11:00:00    A  CB_EU_FOR  I_IUG_DKPC   \n",
      "2  ESTAT:ISOC_CI_DEV_I(1.0)  17/12/24 11:00:00    A  CB_EU_FOR  I_IUG_DKPC   \n",
      "3  ESTAT:ISOC_CI_DEV_I(1.0)  17/12/24 11:00:00    A  CB_EU_FOR  I_IUG_DKPC   \n",
      "4  ESTAT:ISOC_CI_DEV_I(1.0)  17/12/24 11:00:00    A  CB_EU_FOR  I_IUG_DKPC   \n",
      "\n",
      "     unit geo  TIME_PERIOD  OBS_VALUE OBS_FLAG  CONF_STATUS  \n",
      "0  PC_IND  AL         2018        NaN        u          NaN  \n",
      "1  PC_IND  AT         2016      37.41      NaN          NaN  \n",
      "2  PC_IND  AT         2018      42.45      NaN          NaN  \n",
      "3  PC_IND  AT         2021      39.62      NaN          NaN  \n",
      "4  PC_IND  AT         2023      40.34      NaN          NaN  \n"
     ]
    }
   ],
   "source": [
    "#check the data\n",
    "print(geo_device.head())"
   ]
  },
  {
   "cell_type": "code",
   "execution_count": 3,
   "metadata": {},
   "outputs": [
    {
     "name": "stdout",
     "output_type": "stream",
     "text": [
      "Index(['DATAFLOW', 'LAST UPDATE', 'freq', 'accomunit', 'unit', 'nace_r2',\n",
      "       'geo', 'TIME_PERIOD', 'OBS_VALUE', 'OBS_FLAG', 'CONF_STATUS'],\n",
      "      dtype='object')\n",
      "Index(['DATAFLOW', 'LAST UPDATE', 'freq', 'ind_type', 'indic_is', 'unit',\n",
      "       'geo', 'TIME_PERIOD', 'OBS_VALUE', 'OBS_FLAG', 'CONF_STATUS'],\n",
      "      dtype='object')\n"
     ]
    }
   ],
   "source": [
    "print(geo_beds.columns)\n",
    "print(geo_device.columns)"
   ]
  },
  {
   "cell_type": "code",
   "execution_count": 18,
   "metadata": {},
   "outputs": [
    {
     "name": "stdout",
     "output_type": "stream",
     "text": [
      "  geo  TIME_PERIOD accomunit unit nace_r2  OBS_VALUE\n",
      "0  AT         1990     BEDPL   NR    I551   650559.0\n",
      "1  AT         1991     BEDPL   NR    I551   654127.0\n",
      "2  AT         1992     BEDPL   NR    I551   653586.0\n",
      "3  AT         1993     BEDPL   NR    I551   651003.0\n",
      "4  AT         1994     BEDPL   NR    I551   650020.0\n"
     ]
    }
   ],
   "source": [
    "# cols to keep\n",
    "geo_beds = geo_beds[['geo','TIME_PERIOD','accomunit', 'unit', 'nace_r2','OBS_VALUE']]\n",
    "print(geo_beds.head())"
   ]
  },
  {
   "cell_type": "code",
   "execution_count": 13,
   "metadata": {},
   "outputs": [
    {
     "name": "stdout",
     "output_type": "stream",
     "text": [
      "nace_r2\n",
      "I551         6867\n",
      "I552_I553    4320\n",
      "I551-I553    4294\n",
      "I553         4265\n",
      "I552         4139\n",
      "Name: count, dtype: int64\n"
     ]
    }
   ],
   "source": [
    "# print(geo_beds['geo'].value_counts())\n",
    "print(geo_beds['nace_r2'].value_counts())\n",
    "# print(geo_beds['accomunit'].value_counts())\n",
    "# print(geo_beds['unit'].value_counts())\n",
    "# print(geo_beds['TIME_PERIOD'].value_counts())"
   ]
  },
  {
   "cell_type": "code",
   "execution_count": 8,
   "metadata": {},
   "outputs": [
    {
     "data": {
      "text/plain": [
       "geo            object\n",
       "TIME_PERIOD     int64\n",
       "accomunit      object\n",
       "unit           object\n",
       "nace_r2        object\n",
       "dtype: object"
      ]
     },
     "execution_count": 8,
     "metadata": {},
     "output_type": "execute_result"
    }
   ],
   "source": [
    "geo_beds.dtypes"
   ]
  },
  {
   "cell_type": "code",
   "execution_count": null,
   "metadata": {},
   "outputs": [
    {
     "name": "stdout",
     "output_type": "stream",
     "text": [
      "    geo  TIME_PERIOD accomunit unit nace_r2  OBS_VALUE\n",
      "26   AT         2016     BEDPL   NR    I551   601945.0\n",
      "60   BE         2016     BEDPL   NR    I551   129232.0\n",
      "94   BG         2016     BEDPL   NR    I551   281869.0\n",
      "126  CH         2016     BEDPL   NR    I551   271710.0\n",
      "159  CY         2016     BEDPL   NR    I551    83251.0\n"
     ]
    }
   ],
   "source": [
    "# Rows to use: You should only use rows where: \n",
    "# “accomunit” is “BEDPL”, --> accomodation unit : bedplaces\n",
    "# “unit” is “NR”, --> number\n",
    "# “nace_r2” is “I551”, --> accomodation type : hotels and similar accommodation \n",
    "# “TIME_PERDIO” is “2016” \n",
    "\n",
    "# Output the number of bedplaces in hotels and similar accommodation in 2016 for each country\n",
    "geo_beds_2016 = geo_beds[(geo_beds['accomunit'] == 'BEDPL') & (geo_beds['unit'] == 'NR') & (geo_beds['nace_r2'] == 'I551') & (geo_beds['TIME_PERIOD'] == 2016)]\n",
    "print(geo_beds_2016.head())"
   ]
  },
  {
   "cell_type": "code",
   "execution_count": 5,
   "metadata": {},
   "outputs": [
    {
     "name": "stdout",
     "output_type": "stream",
     "text": [
      "                   DATAFLOW        LAST UPDATE freq   ind_type    indic_is  \\\n",
      "0  ESTAT:ISOC_CI_DEV_I(1.0)  17/12/24 11:00:00    A  CB_EU_FOR  I_IUG_DKPC   \n",
      "1  ESTAT:ISOC_CI_DEV_I(1.0)  17/12/24 11:00:00    A  CB_EU_FOR  I_IUG_DKPC   \n",
      "2  ESTAT:ISOC_CI_DEV_I(1.0)  17/12/24 11:00:00    A  CB_EU_FOR  I_IUG_DKPC   \n",
      "3  ESTAT:ISOC_CI_DEV_I(1.0)  17/12/24 11:00:00    A  CB_EU_FOR  I_IUG_DKPC   \n",
      "4  ESTAT:ISOC_CI_DEV_I(1.0)  17/12/24 11:00:00    A  CB_EU_FOR  I_IUG_DKPC   \n",
      "\n",
      "     unit geo  TIME_PERIOD  OBS_VALUE OBS_FLAG  CONF_STATUS  \n",
      "0  PC_IND  AL         2018        NaN        u          NaN  \n",
      "1  PC_IND  AT         2016      37.41      NaN          NaN  \n",
      "2  PC_IND  AT         2018      42.45      NaN          NaN  \n",
      "3  PC_IND  AT         2021      39.62      NaN          NaN  \n",
      "4  PC_IND  AT         2023      40.34      NaN          NaN  \n"
     ]
    }
   ],
   "source": [
    "#check the data\n",
    "print(geo_device.head())"
   ]
  },
  {
   "cell_type": "code",
   "execution_count": 21,
   "metadata": {},
   "outputs": [
    {
     "data": {
      "text/plain": [
       "Index(['DATAFLOW', 'LAST UPDATE', 'freq', 'ind_type', 'indic_is', 'unit',\n",
       "       'geo', 'TIME_PERIOD', 'OBS_VALUE', 'OBS_FLAG', 'CONF_STATUS'],\n",
       "      dtype='object')"
      ]
     },
     "execution_count": 21,
     "metadata": {},
     "output_type": "execute_result"
    }
   ],
   "source": [
    "geo_device.columns"
   ]
  },
  {
   "cell_type": "code",
   "execution_count": 22,
   "metadata": {},
   "outputs": [],
   "source": [
    "# cols to keep\n",
    "geo_device = geo_device[['geo','ind_type','indic_is', 'unit', 'TIME_PERIOD','OBS_VALUE', 'OBS_FLAG']]"
   ]
  },
  {
   "cell_type": "code",
   "execution_count": 23,
   "metadata": {},
   "outputs": [
    {
     "name": "stdout",
     "output_type": "stream",
     "text": [
      "      geo   ind_type  indic_is    unit  TIME_PERIOD  OBS_VALUE OBS_FLAG\n",
      "97734  AT  IND_TOTAL  I_IUG_TV  PC_IND         2016      14.78      NaN\n",
      "97735  BE  IND_TOTAL  I_IUG_TV  PC_IND         2016       9.89      NaN\n",
      "97736  BG  IND_TOTAL  I_IUG_TV  PC_IND         2016       3.71      NaN\n",
      "97737  CY  IND_TOTAL  I_IUG_TV  PC_IND         2016       6.41      NaN\n",
      "97738  CZ  IND_TOTAL  I_IUG_TV  PC_IND         2016       5.32      NaN\n"
     ]
    }
   ],
   "source": [
    "# rows to use: You should only use rows where:\n",
    "# · “ind_type” is “IND_TOTAL”\n",
    "# · “indic_is” is “I_IUG_TV”\n",
    "# · “unit” is “PC_IND”\n",
    "# · “TIME_PERIOD” is “2016”\n",
    "\n",
    "# Output the number of TV sets per 100 inhabitants in 2016 for each country\n",
    "geo_device_2016 = geo_device[(geo_device['ind_type'] == 'IND_TOTAL') & (geo_device['indic_is'] == 'I_IUG_TV') & (geo_device['unit'] == 'PC_IND') & (geo_device['TIME_PERIOD'] == 2016)]\n",
    "print(geo_device_2016.head())\n"
   ]
  },
  {
   "cell_type": "code",
   "execution_count": 25,
   "metadata": {},
   "outputs": [
    {
     "data": {
      "text/plain": [
       "OBS_FLAG\n",
       "b    2\n",
       "Name: count, dtype: int64"
      ]
     },
     "execution_count": 25,
     "metadata": {},
     "output_type": "execute_result"
    }
   ],
   "source": [
    "geo_device_2016['OBS_FLAG'].value_counts()"
   ]
  },
  {
   "cell_type": "code",
   "execution_count": 27,
   "metadata": {},
   "outputs": [],
   "source": [
    "import numpy as np\n",
    "\n",
    "# Special values\n",
    "# ● The value “: ” signifies missing data.\n",
    "# ● Rows where OBS_FLAG contains “u” or “bu” are unreliable and should be considered as missing data.\n",
    "# ● Country codes “EA”, \"EU27_2007\", \"EU27_2020\";, \"EU28\"; should be treated the same as missing data and should be ignored.[2]\n",
    "\n",
    "#Treat the special values as missing data\n",
    "geo_device_2016 = geo_device_2016[~geo_device_2016['OBS_FLAG'].fillna('').str.contains('u|bu')]\n",
    "geo_device_2016 = geo_device_2016[~geo_device_2016['geo'].isin(['EA', 'EU27_2007', 'EU27_2020', 'EU28'])]\n",
    "\n",
    "# Replace \":\" with NaN in 'OBS_VALUE' and then drop rows with NaN\n",
    "geo_device_2016['OBS_VALUE'] = geo_device_2016['OBS_VALUE'].replace(':', np.nan).astype(float)\n",
    "geo_device_2016 = geo_device_2016.dropna(subset=['OBS_VALUE'])"
   ]
  },
  {
   "cell_type": "code",
   "execution_count": 28,
   "metadata": {},
   "outputs": [],
   "source": [
    "# Doing the same for geo_beds_2016\n",
    "geo_beds_2016 = geo_beds_2016[~geo_beds_2016['geo'].isin(['EA', 'EU27_2007', 'EU27_2020', 'EU28'])]\n",
    "geo_beds_2016['OBS_VALUE'] = geo_beds_2016['OBS_VALUE'].replace(':', np.nan).astype(float)\n",
    "geo_beds_2016 = geo_beds_2016.dropna(subset=['OBS_VALUE'])"
   ]
  },
  {
   "cell_type": "code",
   "execution_count": 30,
   "metadata": {},
   "outputs": [
    {
     "name": "stdout",
     "output_type": "stream",
     "text": [
      "  Country Code  Number of Bed-places  Percentage of individuals\n",
      "0           AT              601945.0                      14.78\n",
      "1           BE              129232.0                       9.89\n",
      "2           BG              281869.0                       3.71\n",
      "3           CY               83251.0                       6.41\n",
      "4           CZ              317756.0                       5.32\n"
     ]
    }
   ],
   "source": [
    "#left merge the two dataframes on 'geo'\n",
    "geo_merged = geo_beds_2016.merge(geo_device_2016, on='geo', suffixes=('_beds', '_device'))\n",
    "# keep only the columns we need: “Country Code”, “Percentage of individuals” and “Number of Bed-places”.\n",
    "geo_merged = geo_merged[['geo', 'OBS_VALUE_beds', 'OBS_VALUE_device']]\n",
    "# Rename the columns to “Country Code”, “Number of Bed-places” and “Percentage of individuals”\n",
    "geo_merged.columns = ['Country Code', 'Number of Bed-places', 'Percentage of individuals']\n",
    "import os\n",
    "\n",
    "# Create the output directory if it doesn't exist\n",
    "if not os.path.exists('output_data'):\n",
    "\tos.makedirs('output_data')\n",
    "\n",
    "# Save the merged dataframe to a CSV file\n",
    "geo_merged.to_csv('output_data/geo_beds_device.csv', index=False)\n",
    "print(geo_merged.head())"
   ]
  },
  {
   "cell_type": "markdown",
   "metadata": {},
   "source": [
    "<!-- # Visualize the data for Outcome\n",
    "# Can I Multiply \"Number of Bed-places\" by \"% of Individuals\" to Estimate Target Users?\n",
    "# I can. BUT! This is a rough estimate and has some assumptions and limitations.\n",
    "\n",
    "# What the Percentage Means:\n",
    "- The \"% of individuals\" is the share of the general population who use a TV to access the internet, not specifically hotel guests. This assumes hotel guests are similar to the general population in their tech habits.\n",
    "- Bed-places ≠ Unique Guests: \"Bed-places\" is the number of beds available, not the number of guests per year. Actual guest numbers could be higher (if beds are used by multiple guests per year) or lower (if occupancy is low).\n",
    "- Not All Guests Will Use the Feature: Even if someone uses a smart TV at home, they may not use it in a hotel.\n",
    "- Market Size Estimate: This calculation gives you a relative market size for comparison between countries. -->"
   ]
  },
  {
   "cell_type": "code",
   "execution_count": null,
   "metadata": {
    "vscode": {
     "languageId": "markdown"
    }
   },
   "outputs": [],
   "source": []
  },
  {
   "cell_type": "code",
   "execution_count": null,
   "metadata": {},
   "outputs": [],
   "source": []
  }
 ],
 "metadata": {
  "kernelspec": {
   "display_name": "venv",
   "language": "python",
   "name": "python3"
  },
  "language_info": {
   "codemirror_mode": {
    "name": "ipython",
    "version": 3
   },
   "file_extension": ".py",
   "mimetype": "text/x-python",
   "name": "python",
   "nbconvert_exporter": "python",
   "pygments_lexer": "ipython3",
   "version": "3.9.6"
  }
 },
 "nbformat": 4,
 "nbformat_minor": 2
}
