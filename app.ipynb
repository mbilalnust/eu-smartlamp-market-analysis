{
 "cells": [
  {
   "cell_type": "code",
   "execution_count": 23,
   "metadata": {},
   "outputs": [],
   "source": [
    "import pandas as pd\n",
    "\n",
    "# Load the dataset\n",
    "geo_device = pd.read_csv(\"input_data/estat_isoc_ci_dev_i_en.csv\")\n",
    "geo_beds = pd.read_csv(\"input_data/estat_tour_cap_nat_en.csv\")"
   ]
  },
  {
   "cell_type": "code",
   "execution_count": 24,
   "metadata": {},
   "outputs": [
    {
     "name": "stdout",
     "output_type": "stream",
     "text": [
      "                   DATAFLOW        LAST UPDATE freq   ind_type    indic_is  \\\n",
      "0  ESTAT:ISOC_CI_DEV_I(1.0)  17/12/24 11:00:00    A  CB_EU_FOR  I_IUG_DKPC   \n",
      "1  ESTAT:ISOC_CI_DEV_I(1.0)  17/12/24 11:00:00    A  CB_EU_FOR  I_IUG_DKPC   \n",
      "2  ESTAT:ISOC_CI_DEV_I(1.0)  17/12/24 11:00:00    A  CB_EU_FOR  I_IUG_DKPC   \n",
      "3  ESTAT:ISOC_CI_DEV_I(1.0)  17/12/24 11:00:00    A  CB_EU_FOR  I_IUG_DKPC   \n",
      "4  ESTAT:ISOC_CI_DEV_I(1.0)  17/12/24 11:00:00    A  CB_EU_FOR  I_IUG_DKPC   \n",
      "\n",
      "     unit geo  TIME_PERIOD  OBS_VALUE OBS_FLAG  CONF_STATUS  \n",
      "0  PC_IND  AL         2018        NaN        u          NaN  \n",
      "1  PC_IND  AT         2016      37.41      NaN          NaN  \n",
      "2  PC_IND  AT         2018      42.45      NaN          NaN  \n",
      "3  PC_IND  AT         2021      39.62      NaN          NaN  \n",
      "4  PC_IND  AT         2023      40.34      NaN          NaN  \n"
     ]
    }
   ],
   "source": [
    "#check the data\n",
    "print(geo_device.head())"
   ]
  },
  {
   "cell_type": "code",
   "execution_count": 12,
   "metadata": {},
   "outputs": [
    {
     "name": "stdout",
     "output_type": "stream",
     "text": [
      "Index(['DATAFLOW', 'LAST UPDATE', 'freq', 'accomunit', 'unit', 'nace_r2',\n",
      "       'geo', 'TIME_PERIOD', 'OBS_VALUE', 'OBS_FLAG', 'CONF_STATUS'],\n",
      "      dtype='object')\n",
      "Index(['DATAFLOW', 'LAST UPDATE', 'freq', 'ind_type', 'indic_is', 'unit',\n",
      "       'geo', 'TIME_PERIOD', 'OBS_VALUE', 'OBS_FLAG', 'CONF_STATUS'],\n",
      "      dtype='object')\n"
     ]
    }
   ],
   "source": [
    "print(geo_beds.columns)\n",
    "print(geo_device.columns)"
   ]
  },
  {
   "cell_type": "code",
   "execution_count": null,
   "metadata": {},
   "outputs": [
    {
     "name": "stdout",
     "output_type": "stream",
     "text": [
      "  geo  TIME_PERIOD accomunit unit nace_r2\n",
      "0  AT         1990     BEDPL   NR    I551\n",
      "1  AT         1991     BEDPL   NR    I551\n",
      "2  AT         1992     BEDPL   NR    I551\n",
      "3  AT         1993     BEDPL   NR    I551\n",
      "4  AT         1994     BEDPL   NR    I551\n"
     ]
    }
   ],
   "source": [
    "# cols to keep\n",
    "geo_beds = geo_beds[['geo','TIME_PERIOD','accomunit', 'unit', 'nace_r2']]\n",
    "print(geo_beds.head())"
   ]
  },
  {
   "cell_type": "code",
   "execution_count": 21,
   "metadata": {},
   "outputs": [
    {
     "data": {
      "text/plain": [
       "array([1990, 1991, 1992, 1993, 1994, 1995, 1996, 1997, 1998, 1999, 2000,\n",
       "       2001, 2002, 2003, 2004, 2005, 2006, 2007, 2008, 2009, 2010, 2011,\n",
       "       2012, 2013, 2014, 2015, 2016, 2017, 2018, 2019, 2020, 2021, 2022,\n",
       "       2023, 2024])"
      ]
     },
     "execution_count": 21,
     "metadata": {},
     "output_type": "execute_result"
    }
   ],
   "source": [
    "# geo_beds['geo'].unique()\n",
    "# geo_beds['nace_r2'].unique()\n",
    "# geo_beds['accomunit'].unique()\n",
    "# geo_beds['unit'].unique()\n",
    "geo_beds['TIME_PERIOD'].unique()"
   ]
  },
  {
   "cell_type": "code",
   "execution_count": null,
   "metadata": {
    "vscode": {
     "languageId": "ini"
    }
   },
   "outputs": [],
   "source": [
    "# Rows to use: You should only use rows where: \n",
    "# “accomunit” is “BEDPL”, --> bedplaces\n",
    "# “unit” is “NR”, --> number\n",
    "# “nace_r2” is “I551”, --> hotels and similar accommodation \n",
    "# “TIME_PERDIO” is “2016” \n",
    "\n",
    "# Output the number of bedplaces in hotels and similar accommodation in 2016\n",
    "geo_beds_2016 = geo_beds[(geo_beds['accomunit'] == 'BEDPL') & (geo_beds['unit'] == 'NR') & (geo_beds['nace_r2'] == 'I551') & (geo_beds['TIME_PERIOD'] == '2016')]\n",
    "\n",
    "print(geo_beds_2016.head())"
   ]
  },
  {
   "cell_type": "code",
   "execution_count": 5,
   "metadata": {},
   "outputs": [
    {
     "name": "stdout",
     "output_type": "stream",
     "text": [
      "                   DATAFLOW        LAST UPDATE freq   ind_type    indic_is  \\\n",
      "0  ESTAT:ISOC_CI_DEV_I(1.0)  17/12/24 11:00:00    A  CB_EU_FOR  I_IUG_DKPC   \n",
      "1  ESTAT:ISOC_CI_DEV_I(1.0)  17/12/24 11:00:00    A  CB_EU_FOR  I_IUG_DKPC   \n",
      "2  ESTAT:ISOC_CI_DEV_I(1.0)  17/12/24 11:00:00    A  CB_EU_FOR  I_IUG_DKPC   \n",
      "3  ESTAT:ISOC_CI_DEV_I(1.0)  17/12/24 11:00:00    A  CB_EU_FOR  I_IUG_DKPC   \n",
      "4  ESTAT:ISOC_CI_DEV_I(1.0)  17/12/24 11:00:00    A  CB_EU_FOR  I_IUG_DKPC   \n",
      "\n",
      "     unit geo  TIME_PERIOD  OBS_VALUE OBS_FLAG  CONF_STATUS  \n",
      "0  PC_IND  AL         2018        NaN        u          NaN  \n",
      "1  PC_IND  AT         2016      37.41      NaN          NaN  \n",
      "2  PC_IND  AT         2018      42.45      NaN          NaN  \n",
      "3  PC_IND  AT         2021      39.62      NaN          NaN  \n",
      "4  PC_IND  AT         2023      40.34      NaN          NaN  \n"
     ]
    }
   ],
   "source": [
    "#check the data\n",
    "print(geo_device.head())"
   ]
  },
  {
   "cell_type": "code",
   "execution_count": null,
   "metadata": {},
   "outputs": [],
   "source": []
  }
 ],
 "metadata": {
  "kernelspec": {
   "display_name": "venv",
   "language": "python",
   "name": "python3"
  },
  "language_info": {
   "codemirror_mode": {
    "name": "ipython",
    "version": 3
   },
   "file_extension": ".py",
   "mimetype": "text/x-python",
   "name": "python",
   "nbconvert_exporter": "python",
   "pygments_lexer": "ipython3",
   "version": "3.9.6"
  }
 },
 "nbformat": 4,
 "nbformat_minor": 2
}
